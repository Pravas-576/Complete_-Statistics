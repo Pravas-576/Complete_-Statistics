{
 "cells": [
  {
   "cell_type": "markdown",
   "id": "91ae31ac-c48c-4cf9-a126-c4d695e78c10",
   "metadata": {},
   "source": [
    "### What is an Outlier?"
   ]
  },
  {
   "cell_type": "markdown",
   "id": "b4ab5a26-39e8-4c65-ab5e-0f74e893dca6",
   "metadata": {},
   "source": [
    "Outlier is a data point in a dataset that is distant from all other observations. A data point that lies outside the overall\n",
    "distribution of the dataset."
   ]
  },
  {
   "cell_type": "markdown",
   "id": "d01745b2-166b-48a6-9006-c938148c1a65",
   "metadata": {},
   "source": [
    "### What is the criteria to identify an outlier?"
   ]
  },
  {
   "cell_type": "markdown",
   "id": "de579560-0f70-4256-a271-ed116c3d0100",
   "metadata": {},
   "source": [
    "1. Data point that falls outside of 1.5 times of an interquartile range above the 3rd quartile and below the 1st quartile.\n",
    "2. Data point that falls outside of 3 standard deviations. we can use a z score and if the z score falls outside of 2 standard deviation."
   ]
  },
  {
   "cell_type": "markdown",
   "id": "48730b6e-cca9-41bc-91ee-b801a0a98557",
   "metadata": {},
   "source": [
    "### What is the reason for an outlier to exists in a dataset?"
   ]
  },
  {
   "cell_type": "markdown",
   "id": "67b2bcac-fc27-4872-a37b-e51e0932abd3",
   "metadata": {},
   "source": [
    "1. Variability in the data.\n",
    "2. An experiemntal measurement error."
   ]
  },
  {
   "cell_type": "markdown",
   "id": "6bbfce54-dd74-4a6c-a6de-b12e02a5c3c7",
   "metadata": {},
   "source": [
    "### What are the impacts having an Outliers in dataset?"
   ]
  },
  {
   "cell_type": "markdown",
   "id": "9d1e787c-d735-4f23-9371-f99182b967f4",
   "metadata": {},
   "source": [
    "1. It causes various problems during our statistical analysis.\n",
    "2. It may cause a significant impact on the mean and standrad deviation."
   ]
  },
  {
   "cell_type": "markdown",
   "id": "91a81c21-ac1c-4a23-ae75-4758d66158f5",
   "metadata": {},
   "source": [
    "### Various ways of finding the outlier?"
   ]
  },
  {
   "cell_type": "markdown",
   "id": "05d49d79-e576-45ca-9b26-0457743c0d92",
   "metadata": {},
   "source": [
    "1. Using scatter plots.\n",
    "2. Box plot.\n",
    "3. Using Z_score.\n",
    "4. Using the IQR (Interquartile Range)."
   ]
  },
  {
   "cell_type": "markdown",
   "id": "de15f2c6-41bd-4ed1-b48c-a837a9b2029c",
   "metadata": {},
   "source": [
    "## lets go with an Exapmles"
   ]
  },
  {
   "cell_type": "code",
   "execution_count": 4,
   "id": "f33764ff-cd53-449a-ac8f-b1f5f699e507",
   "metadata": {},
   "outputs": [],
   "source": [
    "dataset= [11,10,12,14,12,15,14,13,15,102,12,14,17,19,107, 10,13,12,14,12,108,12,11,14,13,15,10,15,12,10,14,13,15,10]"
   ]
  },
  {
   "cell_type": "markdown",
   "id": "e7f015a5-cc84-439f-a1a9-de0e8c4ba2e9",
   "metadata": {},
   "source": [
    "### Detecting outlier using Z_score."
   ]
  },
  {
   "cell_type": "markdown",
   "id": "2d41679f-c16e-462c-b565-a25b593e34a9",
   "metadata": {},
   "source": [
    "### Z_score\n",
    "Formula for Z score = (Observation — Mean)/Standard Deviation\n",
    "\n",
    "z = (X — μ) / σ"
   ]
  },
  {
   "cell_type": "code",
   "execution_count": 5,
   "id": "89ef5a5c-2a91-487e-999d-8cf8bb3c2a07",
   "metadata": {},
   "outputs": [],
   "source": [
    "import numpy as np\n",
    "import matplotlib.pyplot as plt\n",
    "%matplotlib inline"
   ]
  },
  {
   "cell_type": "code",
   "execution_count": 6,
   "id": "5af7ff93-7125-4ef2-a38b-1aedcae4ff63",
   "metadata": {},
   "outputs": [],
   "source": [
    "outliers = []\n",
    "def detect_outliers(data):\n",
    "    \n",
    "    threshold = 3\n",
    "    mean = np.mean(data)\n",
    "    std = np.std(data)\n",
    "    \n",
    "    for i in data:\n",
    "        z_score = (i-mean)/std\n",
    "        if np.abs(z_score) > threshold:\n",
    "            outliers.append(i)\n",
    "    return outliers"
   ]
  },
  {
   "cell_type": "code",
   "execution_count": 7,
   "id": "105e3253-9b0c-4e89-b77e-c86e6a3ddb53",
   "metadata": {},
   "outputs": [
    {
     "data": {
      "text/plain": [
       "[102, 107, 108]"
      ]
     },
     "execution_count": 7,
     "metadata": {},
     "output_type": "execute_result"
    }
   ],
   "source": [
    "outlier_pt = detect_outliers(dataset)\n",
    "outlier_pt"
   ]
  },
  {
   "cell_type": "markdown",
   "id": "b0593700-0277-41d0-a43a-00e90511d6ac",
   "metadata": {},
   "source": [
    "### Interquartile range"
   ]
  },
  {
   "cell_type": "markdown",
   "id": "fce9c234-695d-402b-89a4-e8d74927059e",
   "metadata": {},
   "source": [
    "75%- 25% values in a dataset"
   ]
  },
  {
   "cell_type": "markdown",
   "id": "1dbd1f03-69ee-4716-8eec-890a6a3bdb95",
   "metadata": {},
   "source": [
    "#### Steps\n",
    "1. Arrange the data in increasing order\n",
    "2. Calculate first(q1) and third quartile(q3)\n",
    "3. Find interquartile range (q3-q1)\n",
    "4. Find lower bound q1*1.5\n",
    "5. Find upper bound q3*1.5"
   ]
  },
  {
   "cell_type": "markdown",
   "id": "8dfe5d81-007d-4fd5-b593-8ada490514c4",
   "metadata": {},
   "source": [
    "Anything that lies outside of lower and upper bound is an outlier"
   ]
  },
  {
   "cell_type": "code",
   "execution_count": 8,
   "id": "73e5498f-32cd-4b00-927f-29a08d4f5398",
   "metadata": {},
   "outputs": [
    {
     "data": {
      "text/plain": [
       "[10,\n",
       " 10,\n",
       " 10,\n",
       " 10,\n",
       " 10,\n",
       " 11,\n",
       " 11,\n",
       " 12,\n",
       " 12,\n",
       " 12,\n",
       " 12,\n",
       " 12,\n",
       " 12,\n",
       " 12,\n",
       " 13,\n",
       " 13,\n",
       " 13,\n",
       " 13,\n",
       " 14,\n",
       " 14,\n",
       " 14,\n",
       " 14,\n",
       " 14,\n",
       " 14,\n",
       " 15,\n",
       " 15,\n",
       " 15,\n",
       " 15,\n",
       " 15,\n",
       " 17,\n",
       " 19,\n",
       " 102,\n",
       " 107,\n",
       " 108]"
      ]
     },
     "execution_count": 8,
     "metadata": {},
     "output_type": "execute_result"
    }
   ],
   "source": [
    "sort_data = sorted(dataset)\n",
    "sort_data"
   ]
  },
  {
   "cell_type": "code",
   "execution_count": 9,
   "id": "2121430d-8d09-4196-a5bc-426c4aa14b73",
   "metadata": {},
   "outputs": [],
   "source": [
    "Quartile1, Quartile3 = np.percentile(dataset,[25,75])"
   ]
  },
  {
   "cell_type": "code",
   "execution_count": 10,
   "id": "dde94035-f05f-41b7-97e7-b30a037406fe",
   "metadata": {},
   "outputs": [
    {
     "name": "stdout",
     "output_type": "stream",
     "text": [
      "12.0 15.0\n"
     ]
    }
   ],
   "source": [
    "print(Quartile1, Quartile3)"
   ]
  },
  {
   "cell_type": "code",
   "execution_count": 11,
   "id": "8a547a38-8fdc-4afc-8dfc-3e21acb41882",
   "metadata": {},
   "outputs": [
    {
     "data": {
      "text/plain": [
       "3.0"
      ]
     },
     "execution_count": 11,
     "metadata": {},
     "output_type": "execute_result"
    }
   ],
   "source": [
    "## Find the IQR\n",
    "iqr_value = Quartile3-Quartile1\n",
    "iqr_value"
   ]
  },
  {
   "cell_type": "code",
   "execution_count": 12,
   "id": "ffb580c6-e566-4424-8a90-0fb74b72a953",
   "metadata": {},
   "outputs": [],
   "source": [
    "## Find the lower bound value and the higher bound value\n",
    "lower_bound_val = Quartile1 - (1.5*3.0)\n",
    "upper_bound_val = Quartile3 + (1.5*3.0)"
   ]
  },
  {
   "cell_type": "code",
   "execution_count": 13,
   "id": "c6d6e631-16c8-4a6d-86a3-b57c581537f5",
   "metadata": {},
   "outputs": [
    {
     "name": "stdout",
     "output_type": "stream",
     "text": [
      "7.5 19.5\n"
     ]
    }
   ],
   "source": [
    "print(lower_bound_val, upper_bound_val)"
   ]
  },
  {
   "cell_type": "code",
   "execution_count": 33,
   "id": "5fd67ebb-d452-415b-855e-8d6fdcaffc22",
   "metadata": {},
   "outputs": [
    {
     "name": "stdout",
     "output_type": "stream",
     "text": [
      "102\n",
      "107\n",
      "108\n"
     ]
    }
   ],
   "source": [
    "for i in sort_data:\n",
    "    if i > 19 or i < 7:\n",
    "        print(i)"
   ]
  }
 ],
 "metadata": {
  "kernelspec": {
   "display_name": "Python 3 (ipykernel)",
   "language": "python",
   "name": "python3"
  },
  "language_info": {
   "codemirror_mode": {
    "name": "ipython",
    "version": 3
   },
   "file_extension": ".py",
   "mimetype": "text/x-python",
   "name": "python",
   "nbconvert_exporter": "python",
   "pygments_lexer": "ipython3",
   "version": "3.10.6"
  }
 },
 "nbformat": 4,
 "nbformat_minor": 5
}
